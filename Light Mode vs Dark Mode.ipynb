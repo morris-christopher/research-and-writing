{
  "metadata": {
    "kernelspec": {
      "name": "python",
      "display_name": "Python (Pyodide)",
      "language": "python"
    },
    "language_info": {
      "codemirror_mode": {
        "name": "python",
        "version": 3
      },
      "file_extension": ".py",
      "mimetype": "text/x-python",
      "name": "python",
      "nbconvert_exporter": "python",
      "pygments_lexer": "ipython3",
      "version": "3.8"
    }
  },
  "nbformat_minor": 4,
  "nbformat": 4,
  "cells": [
    {
      "cell_type": "markdown",
      "source": "# Light Mode vs Dark Mode: User conventions and potential benefits\n**- Christopher Morris**",
      "metadata": {}
    },
    {
      "cell_type": "markdown",
      "source": "Light-on-dark color schemes originate from early computer user interfaces from the 70s and 80s. It was not a voluntary design choice, however, but rather a necessity due to the lack of advancement in technology. When the technology finally arrived, allowing the mimicking of paper on a display, the CRT monitors with black backgrounds were viewed as inferior and thus obsolete.\n\nDark Mode, along with dark theme and night mode, is a popularized term for the light-on-dark color scheme. As it is defined by the Tech Terms Computer Dictionary—Dark Mode is a software option that is used to make a user interface darker. The background is changed to a darker color, and the text color changes from dark to light.\n\nDark Mode then appeared as a user interface and web design trend as early as 2017, which would later influence Apple and Samsung to reveal one of the most anticipated changes to their smartphones, the option to change the operating system to Dark Mode. Immediately, the debate between Light Mode and Dark Mode began, and each received advocates claiming that one was better than the other.\n\nThe purpose of this study is to examine which color scheme, Light Mode or Dark Mode, is more common among Apple and Samsung smartphone owners, and out of the two, identify which one users should implement on their smartphone. Part I will involve asking participants, out of five popular smartphone models from Samsung and Apple, which device they own—or use most often if they own more than one model—and follow-up questions about their usage habits. Part II will consist of analyzing and synthesizing existing literature to determine if there should be a preference between Light and Dark mode, taking into account legibility, performance, and overall physical and mental health of the user. Ultimately, we predict that there is a difference between Light and Dark Mode usage among Apple and Samsung users, with a majority having Light Mode enabled, and there should be no difference in benefit when comparing the two color schemes.",
      "metadata": {}
    },
    {
      "cell_type": "markdown",
      "source": "---",
      "metadata": {}
    },
    {
      "cell_type": "markdown",
      "source": "## Method",
      "metadata": {}
    },
    {
      "cell_type": "markdown",
      "source": "To explore our hypothesis and address Part I of our research question, we conducted an online survey that asked participants what kind of smartphone they have, their usage habits, and to record any visual fatigue that they might be experiencing. We created the survey with Google Forms and, over the course of a few weeks, it was distributed via email and across social media platforms.\n\nIn order to answer Part II of our research question, a literature review was necessary. We started by identifying relevant research questions and developing a search strategy. This process included listing search terms such as Dark Mode, dark-on-light color scheme, Light and Dark Mode User Interface Design. We found relevant scientific articles and reports in different online research communities, mainly found with the help of Google Scholar. We by no means examined all studies pertaining to the research topic, but only a few that we found most relevant. In that sense, the present study is not comprehensive; however, it does present a potential starting point for future research on the effects of Light and Dark Mode.\n\nNote: only surveying participants in the U.S. and using smartphones released from 2015–2020.",
      "metadata": {}
    },
    {
      "cell_type": "markdown",
      "source": " ",
      "metadata": {}
    },
    {
      "cell_type": "markdown",
      "source": "#### **Survey Introduction** \nIn this survey, you will be asked to share information about the make and model of your smartphone, daily usage habits, and any eye fatigue you might be experiencing. However, any information shared will be anonymous and can't be traced back to you. Ideally, from this survey, we'll better understand user conventions and be able to provide general guidelines as to which color theme a user will benefit from. Participation in this survey is uncompensated and completely voluntary. Please note that the survey is being conducted with the help of Google Forms, a company not affiliated with this study, and with its own privacy and security policies that you can find on its website. We anticipate that your participation in this survey presents no greater risk than everyday use of the Internet.\n\n#### **Questionnaire:**\n\n**1. Do you own an Apple or Samsung smart phone?** - (Apple) (Samsung) (Neither)\n\n**2. Indicate your primary device (the device you use most often).** *Apple* - (iPhone 11) (iPhone SE) (iPhone X) (iPhone 8) (iPhone 7) (N/A)\n\n**2. Indicate your primary device (the device you use most often).** *Samsung* - (Galaxy 10) (Galaxy Note 9) (Galaxy S8) (Galaxy S7) (Galaxy S6) (N/A)\n\n**2. Indicate your primary device (the device you use most often).** *Other* - (Other)\n\n**3. Indicate your daily screen time usage. (Hours)** - (0-2) (3-5) (6-8) (9-10) (11+)\n\n**4. For your primary device, do you have Light Mode or Dark Mode enabled?** - (Light Mode) (Dark Mode) (Not Sure)\n\n**5. Do you experience any eyestrain from using your device?** - (Y) (N)\n\n**6. Follow up (optional)** - If you would like to participate in a follow-up interview to provide more details or clarify any answers, feel free to leave your preferred email. Thank you!\n\n#### **Confirmation:**\n\nYour response has been submitted, thank you for participating.\n\n**Google Form:** (https://forms.gle/2AqybC1CP1UE3Bry5)",
      "metadata": {}
    },
    {
      "cell_type": "markdown",
      "source": "---",
      "metadata": {}
    },
    {
      "cell_type": "markdown",
      "source": "## Literature Review",
      "metadata": {}
    },
    {
      "cell_type": "markdown",
      "source": "#### **Legibility/Display Luminance** \n\nAxel Buchnera, Susanne Mayra, and Martin Brandt (2009) compared reading dark letters printed on a light background with light letters printed on a dark background. Initially, they found that dark letters on a light background had a positive impact on readability. Two variables were identified to be the cause of the advantage: (1) In general, dark-on-light text emits a higher luminance level and is easier to read because of the way our eyes adjust to the image. (2) Because we’ve grown accustomed to dark-on-light text in other mediums—such as printed books, newspapers, etc.—we may have adapted to reading it more easily. To learn how display luminance affects readability, luminance levels were manipulated for both conditions, revealing that when the displays had the same luminance level, there was no difference in readability for dark-on-light and light-on-dark text (Axel Buchnera, Susanne Mayra and Martin Brandt, 2009).\n\nConsidering the findings of Axel Buchnera, Susanne Mayra, and Martin Brandt (2009), we could equate dark letters on a light background to Light Mode and light letters on a dark background to Dark Mode. That is, Light Mode might be the superior color scheme when it comes to legibility. Even so, luminance was the main determinant in users’ ability to read text on a screen. Increasing the lightness of letters on a dark background creates the same effect that dark letters have on a light background. In order to promote legibility among Apple and Samsung smartphone users, instead of recommending one of the two modes, we could also suggest increasing the brightness on their displays. Of course, luminance doesn’t directly translate to brightness, but in the most general sense, it may have a similar effect. However, this approach does have its limitations. Increasing screen brightness could cause fatigue and eye strain if the surrounding environment is dark or dimly lit—even more so if the display is using Light Mode (Kim et al. 2019). Additionally, If a user happens to be walking during the night with their phone out, the brightness may obstruct their vision thus, affecting their ability to avoid obstacles or people. Meaning, Light Mode has the advantage when it comes to legibility until a user increases screen brightness, where we then need to account for digital eye strain and the surrounding environment.",
      "metadata": {}
    },
    {
      "cell_type": "markdown",
      "source": " ",
      "metadata": {}
    },
    {
      "cell_type": "markdown",
      "source": "#### **Health Effects** \n\nKim et al. (2019) examined the effects of Dark Mode on visual fatigue and acuity, focusing on augmented reality and optical see-through displays. The study hypothesized that there was a significant difference between light on dark colors (Light Mode) and dark on light colors (Dark Mode) on a user’s visual acuity and fatigue. The experiment involved participants looking at dark or light text and shapes on either a dark or light background in two independently lit environments (High and Low). Visual fatigue was also measured before and after.\n\nWhat they found was that participants were more accurate in reading text and deciphering shapes that were presented in Dark Mode rather than Light mode. Participants also experienced less visual fatigue and rated the overall usability of the interface higher. Testing in both high and low-light environments also gave insight into how an interface might interact with the physical space that a user is in. Dark Mode significantly improves usability and performance in low-light environments (Kim et al., 2019).\n\nOptical see-through displays are similar to viewing a smartphone at arm's length in that what’s displayed on the interface is in the context of a user's physical environment. Thus, we could reasonably say that not only does Dark Mode reduce overall visual fatigue, but it also increases readability and performance in low-light environments as it is mimicking the lighting conditions of the environment itself.\n\nIn contrast, Kim et al. (2019) illustrate that Light Mode could be linked to experiencing visual fatigue more often. Medical research has shown too that excessive exposure to white light suppresses an individual’s melatonin levels, interrupting their circadian rhythm, creating irregular sleep patterns, and affecting cognitive performance. Indeed, some studies have even linked low melatonin levels with diabetes, heart disease, and some types of cancer (Banman, 2019). Given that so many of us spend an increasing amount of time in front of a screen, this very well could be a cause for concern (Sheppard and Wolffsohn, 2018).",
      "metadata": {}
    },
    {
      "cell_type": "markdown",
      "source": " ",
      "metadata": {}
    },
    {
      "cell_type": "markdown",
      "source": "#### **Psychological Satisfaction** \n\nEisfeld and Kristallovich (2020) wanted to understand the reasons why Dark Mode has emerged as a trend in user interface design and what that might mean for its future in digital media. They point out that because Dark Mode doesn’t introduce anything groundbreaking or create disruptive changes in a user interface, it can be seen instead as simply an option for users to choose from.\n\nDecision Theory describes the social and psychological impact of having a choice. It is concerned with the underlying reasoning behind an agent’s decisions. The decision could be as mundane as what one should have for breakfast, or as far-reaching as whether one should pursue a political career (Steele and Stefánsson, 2016). The objective when making a choice is to fulfill one's desire, increasing satisfaction in the process. This proposes that the more choices a person has, the higher the probability that they’ll experience satisfaction from their choices, which indicates that having a choice at all already improves that probability. Having the freedom to choose the most appealing option creates higher rates of satisfaction than if the same choices would have been an obligation. (Weinschenk, 2013).\n\nGiving users options in itself may improve their satisfaction with any given interface. Dark Mode’s growing popularity could be the result of users feeling higher rates of satisfaction with an interface that has given them the option to choose that color scheme. Because Light Mode is the default on most devices, we could presume that when the Dark Mode option is available, users gain a greater sense of control and are more likely to feel satisfied if they choose Dark Mode. That is, if the choice is available, a user should choose Dark Mode. This recommendation is in line with other findings on customization and personalization (Eisfeld and Kristallovich, 2020).",
      "metadata": {}
    },
    {
      "cell_type": "markdown",
      "source": " ",
      "metadata": {}
    },
    {
      "cell_type": "markdown",
      "source": "#### **Performance** \n\nThere are several display technologies that are currently in use. LED, mini-LED, micro-LED, OLED, QLED, and AMOLED are the most common in monitors and portable gadgets as of today. Under certain circumstances, devices that use mini LED, micro-LED, OLED, and AMOLED display technology are able to benefit from Dark Mode as black areas of the screen consume no electricity and darker areas consume considerably less, allowing for longer battery times on portable devices like phones, tablets, and laptops. (Eisfeld and Kristallovich, 2020).\n\nEisfeld and Kristallovich (2020) explain that each pixel in an OLED display is lit independently, which brings several advantages. Energy consumption is significantly reduced as dark regions consume less energy and black (or turned off regions) don't consume any energy whatsoever. The display of a smartphone is one of the biggest individual energy consumers on the device (for uses other than phone calls), so the improved efficiency of OLED is highly desirable. It is also worth mentioning that Windows Phone 7 was the first OS to introduce a global Dark Mode design just to improve battery time on devices that were equipped with OLED screens. The operating system was officially released in 2010 (Eisfeld and Kristallovich, 2020).\n\nWith this in mind, we can say with some certainty that users with a smartphone equipped with one of the aforementioned display technologies would benefit from enabling the Dark Mode color scheme on their device. It will significantly lower energy consumption, as a smartphone’s display is known to be one of its biggest energy consumers, allowing the device to last longer.",
      "metadata": {}
    },
    {
      "cell_type": "markdown",
      "source": " ",
      "metadata": {}
    },
    {
      "cell_type": "markdown",
      "source": "#### **Emotion and Perception**\n\nLöffler et al. (2017) shift the attention to the emotional and semantic effects of color on digital content. More specifically, the perception of sentiment in chat messages on white, gray, and black backgrounds on the social media platform Twitch. \n\nWhite and black are said to carry evaluative and affective metaphorical meanings. Across cultures, expressions of white and black relating to good and evil are ever-present. Naturally, these expressions can transfer to digital media and the influence of black and white may have an impact on the interpretation of unclear, ironic, or sarcastic chat messages. For example, reaction time for color naming is faster when words related to immorality (rather than morality) are written in black (e.g. “malevolence”), and when words related to morality (rather than immorality) are written in white (Löffler et al. 2017). In psychological research, the influence of light and dark on affective states has been thoroughly examined. It has been confirmed that the perception of black, white, and chromatic colors unconsciously takes part in governing cognition, emotion, and behavior (Löffler et al. 2017). This shows that the colors presented on an interface not only influence the semantic interpretation of digital content but can also have a lasting impact on a user’s mental state even after they’ve viewed the content. \n\nAs they predicted, Löffler et al. (2017) found that sentiment ratings were significantly more negative when participants worked on a black background compared to a white background. This means that with Dark Mode enabled, users may be more likely to interpret ambiguous text or messages negatively compared to Light Mode, which could have noticeable repercussions if the color scheme was uniformly applied to all devices, as we saw with the release of the Windows Phone 7 operating system in 2010. In that sense, it would be best to keep Light Mode as the default color scheme and include Dark Mode as an option for users to switch to if they are so inclined.",
      "metadata": {}
    },
    {
      "cell_type": "markdown",
      "source": " ",
      "metadata": {}
    },
    {
      "cell_type": "markdown",
      "source": "#### **Summary**\n\nLight Mode may be the superior color scheme when it comes to legibility, but at higher levels of screen brightness, it’s advised to switch to Dark Mode to avoid the presented physiological effects—especially if the surrounding environment is dimly lit. Because Light Mode is the default on most devices, users can gain a greater sense of control and are more likely to feel satisfied if they opt for Dark Mode. When applying Dark Mode in combination with one of the display technologies we mentioned, users can experience lower energy consumption, making their devices last longer. And lastly, users are more likely to interpret digital content in a negative way if the interface has Dark Mode enabled, which can create unintended consequences if the color scheme is applied globally. From what we’ve learned, although Light Mode offers better readability and is associated with more positive sentiments, overall, it seems Dark Mode has more and greater benefits in physical health, mental health, and performance.",
      "metadata": {}
    },
    {
      "cell_type": "markdown",
      "source": "---",
      "metadata": {}
    },
    {
      "cell_type": "markdown",
      "source": "## Analysis",
      "metadata": {}
    },
    {
      "cell_type": "markdown",
      "source": "A total of 22 participants completed the online survey—a relatively small sample size. This inevitably affected the variety of responses we were able to obtain. Out of the 22 participants, all of them reported that they own an Apple smartphone. Of those, a little more than half (13 participants) indicated that they have Dark Mode enabled instead of Light Mode, which contrasts with our prediction that Light Mode would be the color scheme that a majority of users have enabled. Fortunately, there was a diverse mix of smartphone models: nine (iPhone 11)s, two (iPhone SE)s, five (iPhone X)s, three (iPhone 8)s, and three (iPhone 7)s. Lastly, a majority of participants indicated that they spend a daily average of 3 to 5 hours or more on their smartphone but don’t experience any visual fatigue, which could be an indication of a correlation between Light Mode and eyestrain.",
      "metadata": {}
    },
    {
      "cell_type": "code",
      "source": "import pandas as pd\nimport numpy as np\nimport seaborn as sb\nimport scipy.stats as stats\nimport matplotlib\nimport matplotlib.pyplot as plt\nLightDark = pd.read_csv(\"LightAndDarkMode.csv\")\nLightDark",
      "metadata": {},
      "execution_count": 16,
      "outputs": [
        {
          "execution_count": 16,
          "output_type": "execute_result",
          "data": {
            "text/html": [
              "<div>\n",
              "<style scoped>\n",
              "    .dataframe tbody tr th:only-of-type {\n",
              "        vertical-align: middle;\n",
              "    }\n",
              "\n",
              "    .dataframe tbody tr th {\n",
              "        vertical-align: top;\n",
              "    }\n",
              "\n",
              "    .dataframe thead th {\n",
              "        text-align: right;\n",
              "    }\n",
              "</style>\n",
              "<table border=\"1\" class=\"dataframe\">\n",
              "  <thead>\n",
              "    <tr style=\"text-align: right;\">\n",
              "      <th></th>\n",
              "      <th>Apple</th>\n",
              "      <th>Device</th>\n",
              "      <th>Usage</th>\n",
              "      <th>Dark Mode</th>\n",
              "      <th>Eye Strain</th>\n",
              "    </tr>\n",
              "  </thead>\n",
              "  <tbody>\n",
              "    <tr>\n",
              "      <th>0</th>\n",
              "      <td>1</td>\n",
              "      <td>iPhone SE</td>\n",
              "      <td>3 to 5</td>\n",
              "      <td>1</td>\n",
              "      <td>1</td>\n",
              "    </tr>\n",
              "    <tr>\n",
              "      <th>1</th>\n",
              "      <td>1</td>\n",
              "      <td>iPhone X</td>\n",
              "      <td>3 to 5</td>\n",
              "      <td>1</td>\n",
              "      <td>0</td>\n",
              "    </tr>\n",
              "    <tr>\n",
              "      <th>2</th>\n",
              "      <td>1</td>\n",
              "      <td>iPhone X</td>\n",
              "      <td>3 to 5</td>\n",
              "      <td>1</td>\n",
              "      <td>0</td>\n",
              "    </tr>\n",
              "    <tr>\n",
              "      <th>3</th>\n",
              "      <td>1</td>\n",
              "      <td>iPhone SE</td>\n",
              "      <td>3 to 5</td>\n",
              "      <td>1</td>\n",
              "      <td>1</td>\n",
              "    </tr>\n",
              "    <tr>\n",
              "      <th>4</th>\n",
              "      <td>1</td>\n",
              "      <td>iPhone 8</td>\n",
              "      <td>3 to 5</td>\n",
              "      <td>1</td>\n",
              "      <td>0</td>\n",
              "    </tr>\n",
              "    <tr>\n",
              "      <th>5</th>\n",
              "      <td>1</td>\n",
              "      <td>iPhone X</td>\n",
              "      <td>6 to 8</td>\n",
              "      <td>1</td>\n",
              "      <td>0</td>\n",
              "    </tr>\n",
              "    <tr>\n",
              "      <th>6</th>\n",
              "      <td>1</td>\n",
              "      <td>iPhone 11 pro</td>\n",
              "      <td>3 to 5</td>\n",
              "      <td>0</td>\n",
              "      <td>0</td>\n",
              "    </tr>\n",
              "    <tr>\n",
              "      <th>7</th>\n",
              "      <td>1</td>\n",
              "      <td>iPhone 8 plus</td>\n",
              "      <td>3 to 5</td>\n",
              "      <td>0</td>\n",
              "      <td>1</td>\n",
              "    </tr>\n",
              "    <tr>\n",
              "      <th>8</th>\n",
              "      <td>1</td>\n",
              "      <td>iPhone 11</td>\n",
              "      <td>11 or more</td>\n",
              "      <td>0</td>\n",
              "      <td>0</td>\n",
              "    </tr>\n",
              "    <tr>\n",
              "      <th>9</th>\n",
              "      <td>1</td>\n",
              "      <td>iPhone 11</td>\n",
              "      <td>11 or more</td>\n",
              "      <td>1</td>\n",
              "      <td>0</td>\n",
              "    </tr>\n",
              "    <tr>\n",
              "      <th>10</th>\n",
              "      <td>1</td>\n",
              "      <td>iPhone 8</td>\n",
              "      <td>9 to 10</td>\n",
              "      <td>1</td>\n",
              "      <td>1</td>\n",
              "    </tr>\n",
              "    <tr>\n",
              "      <th>11</th>\n",
              "      <td>1</td>\n",
              "      <td>iPhone 11</td>\n",
              "      <td>3 to 5</td>\n",
              "      <td>0</td>\n",
              "      <td>1</td>\n",
              "    </tr>\n",
              "    <tr>\n",
              "      <th>12</th>\n",
              "      <td>1</td>\n",
              "      <td>iPhone 11</td>\n",
              "      <td>9 to 10</td>\n",
              "      <td>1</td>\n",
              "      <td>1</td>\n",
              "    </tr>\n",
              "    <tr>\n",
              "      <th>13</th>\n",
              "      <td>1</td>\n",
              "      <td>iPhone 11</td>\n",
              "      <td>6 to 8</td>\n",
              "      <td>0</td>\n",
              "      <td>1</td>\n",
              "    </tr>\n",
              "    <tr>\n",
              "      <th>14</th>\n",
              "      <td>1</td>\n",
              "      <td>iPhone 11</td>\n",
              "      <td>9 to 10</td>\n",
              "      <td>1</td>\n",
              "      <td>1</td>\n",
              "    </tr>\n",
              "    <tr>\n",
              "      <th>15</th>\n",
              "      <td>1</td>\n",
              "      <td>iPhone 11</td>\n",
              "      <td>9 to 10</td>\n",
              "      <td>0</td>\n",
              "      <td>1</td>\n",
              "    </tr>\n",
              "    <tr>\n",
              "      <th>16</th>\n",
              "      <td>1</td>\n",
              "      <td>iPhone X</td>\n",
              "      <td>6 to 8</td>\n",
              "      <td>1</td>\n",
              "      <td>1</td>\n",
              "    </tr>\n",
              "    <tr>\n",
              "      <th>17</th>\n",
              "      <td>1</td>\n",
              "      <td>iPhone X</td>\n",
              "      <td>3 to 5</td>\n",
              "      <td>1</td>\n",
              "      <td>0</td>\n",
              "    </tr>\n",
              "    <tr>\n",
              "      <th>18</th>\n",
              "      <td>1</td>\n",
              "      <td>iPhone 7</td>\n",
              "      <td>3 to 5</td>\n",
              "      <td>0</td>\n",
              "      <td>0</td>\n",
              "    </tr>\n",
              "    <tr>\n",
              "      <th>19</th>\n",
              "      <td>1</td>\n",
              "      <td>iPhone 11</td>\n",
              "      <td>6 to 8</td>\n",
              "      <td>1</td>\n",
              "      <td>0</td>\n",
              "    </tr>\n",
              "    <tr>\n",
              "      <th>20</th>\n",
              "      <td>1</td>\n",
              "      <td>iPhone 7</td>\n",
              "      <td>3 to 5</td>\n",
              "      <td>0</td>\n",
              "      <td>0</td>\n",
              "    </tr>\n",
              "    <tr>\n",
              "      <th>21</th>\n",
              "      <td>1</td>\n",
              "      <td>iPhone 7</td>\n",
              "      <td>3 to 5</td>\n",
              "      <td>0</td>\n",
              "      <td>0</td>\n",
              "    </tr>\n",
              "  </tbody>\n",
              "</table>\n",
              "</div>"
            ],
            "text/plain": [
              "    Apple         Device       Usage  Dark Mode  Eye Strain\n",
              "0       1      iPhone SE      3 to 5          1           1\n",
              "1       1       iPhone X      3 to 5          1           0\n",
              "2       1       iPhone X      3 to 5          1           0\n",
              "3       1      iPhone SE      3 to 5          1           1\n",
              "4       1       iPhone 8      3 to 5          1           0\n",
              "5       1       iPhone X      6 to 8          1           0\n",
              "6       1  iPhone 11 pro      3 to 5          0           0\n",
              "7       1  iPhone 8 plus      3 to 5          0           1\n",
              "8       1      iPhone 11  11 or more          0           0\n",
              "9       1      iPhone 11  11 or more          1           0\n",
              "10      1       iPhone 8     9 to 10          1           1\n",
              "11      1      iPhone 11      3 to 5          0           1\n",
              "12      1      iPhone 11     9 to 10          1           1\n",
              "13      1      iPhone 11      6 to 8          0           1\n",
              "14      1      iPhone 11     9 to 10          1           1\n",
              "15      1      iPhone 11     9 to 10          0           1\n",
              "16      1       iPhone X      6 to 8          1           1\n",
              "17      1       iPhone X      3 to 5          1           0\n",
              "18      1       iPhone 7      3 to 5          0           0\n",
              "19      1      iPhone 11      6 to 8          1           0\n",
              "20      1       iPhone 7      3 to 5          0           0\n",
              "21      1       iPhone 7      3 to 5          0           0"
            ]
          },
          "metadata": {}
        }
      ]
    },
    {
      "cell_type": "markdown",
      "source": "### Light vs Dark",
      "metadata": {}
    },
    {
      "cell_type": "code",
      "source": "light = LightDark.loc[LightDark['Dark Mode'] != 1]\ndark = LightDark.loc[LightDark['Dark Mode'] == 1]",
      "metadata": {},
      "execution_count": 6,
      "outputs": []
    },
    {
      "cell_type": "code",
      "source": "fig = plt.figure(figsize=(10,8))\n\nfig.suptitle('Light Vs Dark', fontsize=14)\n\nplt.hist(light['Dark Mode'],\n         facecolor='blue',\n         edgecolor='black',\n         bins=1,\n         alpha = 0.5)\nplt.hist(dark['Dark Mode'],\n         facecolor='black',\n         edgecolor='black',\n         bins=1,\n         alpha = 0.75)\n\nplt.show()",
      "metadata": {},
      "execution_count": 10,
      "outputs": [
        {
          "output_type": "display_data",
          "data": {
            "image/png": "[encoded data removed]",
            "text/plain": [
              "<Figure size 720x576 with 1 Axes>"
            ]
          },
          "metadata": {
            "needs_background": "light"
          }
        }
      ]
    },
    {
      "cell_type": "markdown",
      "source": "### Device Model",
      "metadata": {}
    },
    {
      "cell_type": "code",
      "source": "labels = 'iPhone 11', 'iPhone SE', 'iPhone X', 'iPhone 8', 'iPhone 7'\nsizes = [9, 2, 5, 3, 3]\nexplode = (0.1, 0, 0, 0, 0)\ncolors = [\"#226F54\", \"#C1292E\", \"#4B3F72\", \"#EE964B\", \"#CBF3F0\"]\n\nfig1, ax1 = plt.subplots()\nax1.pie(sizes, explode=explode, labels=labels, colors=colors, autopct='%1.1f%%',\n        shadow=True, startangle=90)\nax1.axis('equal')\nplt.title(\"Device Model\")\nplt.show()",
      "metadata": {},
      "execution_count": 11,
      "outputs": [
        {
          "output_type": "display_data",
          "data": {
            "image/png": "[encoded data removed]",
            "text/plain": [
              "<Figure size 432x288 with 1 Axes>"
            ]
          },
          "metadata": {}
        }
      ]
    },
    {
      "cell_type": "markdown",
      "source": "### Daily Usage",
      "metadata": {}
    },
    {
      "cell_type": "code",
      "source": "labels = '3 - 5', '6 - 8', '9 - 10', '11+'\nsizes = [12, 4, 4, 2]\nexplode = (0.1, 0, 0, 0)\ncolors = [\"#226F54\", \"#CBF3F0\", \"#4B3F72\", \"#C1292E\"]\n\nfig1, ax1 = plt.subplots()\nax1.pie(sizes, explode=explode, labels=labels, colors=colors, autopct='%1.1f%%',\n        shadow=True, startangle=90)\nax1.axis('equal')\nplt.title(\"Daily Smartphone Usage\")\nplt.show()",
      "metadata": {},
      "execution_count": 13,
      "outputs": [
        {
          "output_type": "display_data",
          "data": {
            "image/png": "[encoded data removed]",
            "text/plain": [
              "<Figure size 432x288 with 1 Axes>"
            ]
          },
          "metadata": {}
        }
      ]
    },
    {
      "cell_type": "markdown",
      "source": "### Visual Fatigue",
      "metadata": {}
    },
    {
      "cell_type": "code",
      "source": "no_eyestrain = LightDark.loc[LightDark['Eye Strain'] != 1]\neyestrain = LightDark.loc[LightDark['Eye Strain'] == 1]",
      "metadata": {},
      "execution_count": 14,
      "outputs": []
    },
    {
      "cell_type": "code",
      "source": "fig = plt.figure(figsize=(10,8))\n\nfig.suptitle('Visual Fatigue (Y/N)', fontsize=14)\n\nplt.hist(no_eyestrain['Eye Strain'],\n         facecolor='blue',\n         edgecolor='black',\n         bins=1,\n         alpha = 0.75)\nplt.hist(eyestrain['Eye Strain'],\n         facecolor='black',\n         edgecolor='black',\n         bins=1,\n         alpha = 0.5)\n\nplt.show()",
      "metadata": {},
      "execution_count": 15,
      "outputs": [
        {
          "output_type": "display_data",
          "data": {
            "image/png": "[encoded data removed]",
            "text/plain": [
              "<Figure size 720x576 with 1 Axes>"
            ]
          },
          "metadata": {
            "needs_background": "light"
          }
        }
      ]
    },
    {
      "cell_type": "markdown",
      "source": "### T-test",
      "metadata": {}
    },
    {
      "cell_type": "code",
      "source": "stats.ttest_ind(light['Eye Strain'], dark['Eye Strain'])",
      "metadata": {},
      "execution_count": 17,
      "outputs": [
        {
          "execution_count": 17,
          "output_type": "execute_result",
          "data": {
            "text/plain": [
              "Ttest_indResult(statistic=-0.07549589077612746, pvalue=0.9405702397018416)"
            ]
          },
          "metadata": {}
        }
      ]
    },
    {
      "cell_type": "markdown",
      "source": "Despite our small sample size, we analyzed the data and used a T-test to compare Light Mode and Dark Mode with visual fatigue. We found that there is no significant difference in visual fatigue between Light and Dark Mode users (p = 0.94).\n\n$H_0$: There is no significant difference in visual fatigue between Light and Dark Mode users",
      "metadata": {}
    },
    {
      "cell_type": "markdown",
      "source": "---",
      "metadata": {}
    },
    {
      "cell_type": "markdown",
      "source": "## Conclusion",
      "metadata": {}
    },
    {
      "cell_type": "markdown",
      "source": "In this paper, we aimed to determine if Light Mode or Dark Mode was more common among Apple and Samsung smartphone owners. Although we were only able to obtain data from Apple participants, the information provides a glimpse into what the larger population of Apple and Samsung users may look like. Contrary to our prediction, we found that a majority of users have Dark Mode enabled instead of Light Mode.\n\nAdditionally, after analyzing the existing literature related to our research topic, we wanted to be able to give general guidelines as to what color scheme a user should implement on their smartphone. We found that: (1) Light Mode may be the superior color scheme when it comes to legibility, but at higher levels of screen brightness, it’s advised to switch to Dark Mode to avoid the presented physiological effects—especially if the surrounding environment is dimly lit. (2) Because Light Mode is the default on most devices, users can gain a greater sense of control and are more likely to feel satisfied if they opt for Dark Mode. (3) When applying Dark Mode in combination with one of the display technologies we mentioned, users can experience lower energy consumption, making their devices last longer. (4) And lastly, users are more likely to interpret digital content negatively if the interface has Dark Mode enabled, which can create unintended consequences if the color scheme is applied globally.\n\nGiven what we’ve learned from the existing literature, although Light Mode offers an advantage in readability and is associated with positive sentiments, overall, it seems Dark Mode has greater benefits in physical health, mental health, and smartphone performance. This conclusion is in contrast with our prediction that there would be no difference in benefit when comparing the two color schemes. Nonetheless, it presents a potential starting point for future research on the effects of Light Mode and Dark Mode.\n\nIn future work, it’s critical to collect more data from a great number of participants. It would allow for a more complete depiction of both the Apple and Samsung population. Also, an inquiry into participants’ visual condition (normal, corrected to normal, color blindness, etc.) could give a better understanding of user preferences and the reasoning behind them.",
      "metadata": {}
    },
    {
      "cell_type": "markdown",
      "source": "---",
      "metadata": {}
    },
    {
      "cell_type": "markdown",
      "source": "## References",
      "metadata": {}
    },
    {
      "cell_type": "markdown",
      "source": "- Banman, Andrew. (2019). SmartNight: Turning Off the Lights on Android.\n- Benedetto, S., Carbone, A., Drai-Zerbib, V., Pedrotti, M., & Baccino, T. (2014). Effects of luminance and illuminance on visual fatigue and arousal during digital reading. *Computers in Human Behavior*, 41, 112-119. doi:10.1016/j.chb.2014.09.023\n- Bonnardel, N., Piolat, A., & Bigot, L. L. (2011). The impact of colour on Website appeal and users’ cognitive processes. *Displays*, 32(2), 69-80. doi:10.1016/j.displa.2010.12.002\n- Buchner, A., Mayr, S., & Brandt, M. (2009). The advantage of positive text-background polarity is due to high display luminance. *Ergonomics*, 52(7), 882-886. doi:10.1080/00140130802641635\n- Eisfeld, H., & Kristallovich, F. (2020). The Rise of Dark Mode : A qualitative study of an emerging user interface design trend (Dissertation). Retrieved from http://urn.kb.se/resolve?urn=urn:nbn:se:hj:diva-50563\n- Erickson, Austin & Kim, Kangsoo & Bruder, Gerd & Welch, Greg. (2020). Dark/Light Mode Adaptation for Graphical User Interfaces on Near-Eye Displays.\n- Kim K., Erickson A., Lambert A., Bruder G., Welch G: Effects of Dark Mode on Visual Fatigue and Acuity in Optical See-Through Head-Mounted Displays. In *Proceedings of the ACM Symposium on Spatial User Interaction* (2019), pp. 9:1–9:9.\n- Löffler, Diana & Giron, Lennart & Hurtienne, Jörn. (2017). Night Mode, Dark Thoughts: Background Color Influences the Perceived Sentiment of Chat Messages. 184-201. 10.1007/978-3-319-67684-5_12.\n- MacDonald, L.W.: Using color effectively in computer graphics. IEEE Comput. Graphics Appl. 19(4), 20–35 (1999)\n- Sheppard, A. L., & Wolffsohn, J. S. (2018). Digital eye strain: Prevalence, measurement and amelioration. *BMJ Open Ophthalmology*, 3(1). doi:10.1136/bmjophth-2018-000146\n- Steele, K., Stefánsson, H., Orri H. (2016). Decision Theory, The Stanford Encyclopedia of Philosophy (Winter 2016 Edition), Edward N. Zalta (ed.). Retrieved 2020-05-01 from https://plato.stanford.edu/archives/win2016/entries/decision-theory/\n- Weinschenk, S. (2013). Why Having Choices Makes Us Feel Powerful, Psychology Today. Retrieved 2020-05-13 from https://www.psychologytoday.com/ca/blog/brain- wise/201301/why-having-choices-makes-us-feel-powerful.",
      "metadata": {}
    },
    {
      "cell_type": "markdown",
      "source": "---",
      "metadata": {}
    }
  ]
}